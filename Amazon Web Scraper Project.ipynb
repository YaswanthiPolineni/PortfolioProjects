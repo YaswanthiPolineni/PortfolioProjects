{
 "cells": [
  {
   "cell_type": "code",
   "execution_count": 2,
   "id": "d3bbf90e",
   "metadata": {},
   "outputs": [],
   "source": [
    "#Import libraries\n",
    "from bs4 import BeautifulSoup\n",
    "import requests\n",
    "import smtplib\n",
    "import time\n",
    "import datetime\n"
   ]
  },
  {
   "cell_type": "code",
   "execution_count": 3,
   "id": "e0f7b3ff",
   "metadata": {},
   "outputs": [],
   "source": [
    "# Connect to Website\n",
    "URL='https://www.amazon.com/dp/B08PL2X1N4/ref=sspa_dk_detail_2?psc=1&pd_rd_i=B08PL2X1N4&pd_rd_w=5fcwN&content-id=amzn1.sym.dd2c6db7-6626-466d-bf04-9570e69a7df0&pf_rd_p=dd2c6db7-6626-466d-bf04-9570e69a7df0&pf_rd_r=93V20WD08Y9K26SW4MSH&pd_rd_wg=4fKnM&pd_rd_r=850aeb03-f258-4320-b07b-87d674ff1d46&s=apparel&sp_csd=d2lkZ2V0TmFtZT1zcF9kZXRhaWxfdGhlbWF0aWM&spLa=ZW5jcnlwdGVkUXVhbGlmaWVyPUEzTVE2R09QNEZSTlpRJmVuY3J5cHRlZElkPUEwODk2MzI4TURFUEJRVUNGTEpOJmVuY3J5cHRlZEFkSWQ9QTA4MjI1MjQxNjJENDNENVBSUDY0JndpZGdldE5hbWU9c3BfZGV0YWlsX3RoZW1hdGljJmFjdGlvbj1jbGlja1JlZGlyZWN0JmRvTm90TG9nQ2xpY2s9dHJ1ZQ=='\n",
    "headers = {\"User-Agent\": \"Mozilla/5.0 (Macintosh; Intel Mac OS X 10_15_7) AppleWebKit/537.36 (KHTML, like Gecko) Chrome/110.0.0.0 Safari/537.36\", \n",
    "    \"X-Amzn-Trace-Id\": \"Root=1-63f30b99-41b33d2044552ace036bb42e\"}\n",
    "page = requests.get(URL,headers=headers)"
   ]
  },
  {
   "cell_type": "code",
   "execution_count": 4,
   "id": "f050b829",
   "metadata": {},
   "outputs": [
    {
     "name": "stdout",
     "output_type": "stream",
     "text": [
      "\n",
      "                Can't Hear You I'm Gaming Headset Graphic Video Games Gamer Gift Funny T Shirt\n",
      "               \n",
      "\n",
      "                           $18.99\n",
      "                          \n",
      "\n",
      "\n",
      "                    4.7 out of 5 stars\n",
      "                   \n",
      "\n"
     ]
    }
   ],
   "source": [
    "soup1=BeautifulSoup(page.content,'html.parser')\n",
    "soup2=BeautifulSoup(soup1.prettify(),'html.parser')\n",
    "title=soup2.find('span', {'id':'productTitle'}).get_text()\n",
    "price=soup2.find('span', {'class':'a-offscreen'}).get_text()\n",
    "rating=soup2.find('i', {'class':'a-icon a-icon-star a-star-4-5'}).get_text()\n",
    "print(title)\n",
    "print(price)\n",
    "print(rating)\n"
   ]
  },
  {
   "cell_type": "code",
   "execution_count": 5,
   "id": "14917924",
   "metadata": {},
   "outputs": [
    {
     "name": "stdout",
     "output_type": "stream",
     "text": [
      "18.99\n",
      "Can't Hear You I'm Gaming Headset Graphic Video Games Gamer Gift Funny T Shirt\n",
      "4.7\n",
      "2023-02-20\n"
     ]
    }
   ],
   "source": [
    "#Remove spaces \n",
    "price=price.strip()[1:]\n",
    "title=title.strip()\n",
    "rating=rating.strip()[0:3]\n",
    "print(price)\n",
    "print(title)\n",
    "print(rating)\n",
    "today=datetime.date.today()\n",
    "print(today)"
   ]
  },
  {
   "cell_type": "code",
   "execution_count": 6,
   "id": "96c011a4",
   "metadata": {},
   "outputs": [],
   "source": [
    "# Upload above data in CSV file created in current working directory and automate the process\n",
    "import csv\n",
    "header=['Title','Price','Rating','DateTime']\n",
    "data=[title,price,rating,today]\n",
    "with open('AmazonWebScraperDataset.csv','w',newline='',encoding='UTF8') as f:\n",
    "    writer=csv.writer(f)\n",
    "    writer.writerow(header)\n",
    "    writer.writerow(data)\n",
    "    "
   ]
  },
  {
   "cell_type": "code",
   "execution_count": 7,
   "id": "ff5219af",
   "metadata": {},
   "outputs": [
    {
     "data": {
      "text/html": [
       "<div>\n",
       "<style scoped>\n",
       "    .dataframe tbody tr th:only-of-type {\n",
       "        vertical-align: middle;\n",
       "    }\n",
       "\n",
       "    .dataframe tbody tr th {\n",
       "        vertical-align: top;\n",
       "    }\n",
       "\n",
       "    .dataframe thead th {\n",
       "        text-align: right;\n",
       "    }\n",
       "</style>\n",
       "<table border=\"1\" class=\"dataframe\">\n",
       "  <thead>\n",
       "    <tr style=\"text-align: right;\">\n",
       "      <th></th>\n",
       "      <th>Title</th>\n",
       "      <th>Price</th>\n",
       "      <th>Rating</th>\n",
       "      <th>DateTime</th>\n",
       "    </tr>\n",
       "  </thead>\n",
       "  <tbody>\n",
       "    <tr>\n",
       "      <th>0</th>\n",
       "      <td>Can't Hear You I'm Gaming Headset Graphic Vide...</td>\n",
       "      <td>18.99</td>\n",
       "      <td>4.7</td>\n",
       "      <td>2023-02-20</td>\n",
       "    </tr>\n",
       "  </tbody>\n",
       "</table>\n",
       "</div>"
      ],
      "text/plain": [
       "                                               Title  Price  Rating  \\\n",
       "0  Can't Hear You I'm Gaming Headset Graphic Vide...  18.99     4.7   \n",
       "\n",
       "     DateTime  \n",
       "0  2023-02-20  "
      ]
     },
     "execution_count": 7,
     "metadata": {},
     "output_type": "execute_result"
    }
   ],
   "source": [
    "#Read Created CSV instead of opening it manually and checking it\n",
    "import pandas as pd\n",
    "df=pd.read_csv('/Users/yaswanthipolineni/Desktop/Alex/Python/AmazonWebScraperDataset.csv')\n",
    "df.head()"
   ]
  },
  {
   "cell_type": "code",
   "execution_count": 8,
   "id": "8cad87a6",
   "metadata": {},
   "outputs": [],
   "source": [
    "#Append Data to CSV\n"
   ]
  },
  {
   "cell_type": "code",
   "execution_count": 9,
   "id": "3b44618d",
   "metadata": {},
   "outputs": [],
   "source": [
    "with open('AmazonWebScraperDataset.csv','a+',newline='',encoding='UTF8') as f:\n",
    "    writer=csv.writer(f)\n",
    "    writer.writerow(data)"
   ]
  },
  {
   "cell_type": "code",
   "execution_count": 10,
   "id": "fb045ba7",
   "metadata": {},
   "outputs": [],
   "source": [
    "#Send Email Function\n",
    "def send_mail():\n",
    "    server = smtplib.SMTP_SSL('smtp.gmail.com',465)\n",
    "    server.ehlo()\n",
    "    #server.starttls()\n",
    "    server.ehlo()\n",
    "    server.login('********@gmail.com','***********')\n",
    "    \n",
    "    subject = \"The Shirt you want is below $15! Now is your chance to buy!\"\n",
    "    body = \"Yaswanthi, This is the moment we have been waiting for. Now is your chance to pick up the shirt of your dreams. Don't mess it up! Link here: https://www.amazon.com/dp/B08PL2X1N4/ref=sspa_dk_detail_2?psc=1&pd_rd_i=B08PL2X1N4&pd_rd_w=5fcwN&content-id=amzn1.sym.dd2c6db7-6626-466d-bf04-9570e69a7df0&pf_rd_p=dd2c6db7-6626-466d-bf04-9570e69a7df0&pf_rd_r=93V20WD08Y9K26SW4MSH&pd_rd_wg=4fKnM&pd_rd_r=850aeb03-f258-4320-b07b-87d674ff1d46&s=apparel&sp_csd=d2lkZ2V0TmFtZT1zcF9kZXRhaWxfdGhlbWF0aWM&spLa=ZW5jcnlwdGVkUXVhbGlmaWVyPUEzTVE2R09QNEZSTlpRJmVuY3J5cHRlZElkPUEwODk2MzI4TURFUEJRVUNGTEpOJmVuY3J5cHRlZEFkSWQ9QTA4MjI1MjQxNjJENDNENVBSUDY0JndpZGdldE5hbWU9c3BfZGV0YWlsX3RoZW1hdGljJmFjdGlvbj1jbGlja1JlZGlyZWN0JmRvTm90TG9nQ2xpY2s9dHJ1ZQ==\"\n",
    "   \n",
    "    msg = f\"Subject: {subject}\\n\\n{body}\"\n",
    "    \n",
    "    server.sendmail(\n",
    "        '******@gmail.com',\n",
    "        msg\n",
    "    )"
   ]
  },
  {
   "cell_type": "code",
   "execution_count": 12,
   "id": "51c247a5",
   "metadata": {},
   "outputs": [],
   "source": [
    "#To get data multiple times\n",
    "def check_price():\n",
    "    URL='https://www.amazon.com/dp/B08PL2X1N4/ref=sspa_dk_detail_2?psc=1&pd_rd_i=B08PL2X1N4&pd_rd_w=5fcwN&content-id=amzn1.sym.dd2c6db7-6626-466d-bf04-9570e69a7df0&pf_rd_p=dd2c6db7-6626-466d-bf04-9570e69a7df0&pf_rd_r=93V20WD08Y9K26SW4MSH&pd_rd_wg=4fKnM&pd_rd_r=850aeb03-f258-4320-b07b-87d674ff1d46&s=apparel&sp_csd=d2lkZ2V0TmFtZT1zcF9kZXRhaWxfdGhlbWF0aWM&spLa=ZW5jcnlwdGVkUXVhbGlmaWVyPUEzTVE2R09QNEZSTlpRJmVuY3J5cHRlZElkPUEwODk2MzI4TURFUEJRVUNGTEpOJmVuY3J5cHRlZEFkSWQ9QTA4MjI1MjQxNjJENDNENVBSUDY0JndpZGdldE5hbWU9c3BfZGV0YWlsX3RoZW1hdGljJmFjdGlvbj1jbGlja1JlZGlyZWN0JmRvTm90TG9nQ2xpY2s9dHJ1ZQ=='\n",
    "    headers = {\n",
    "        \"User-Agent\": \"Mozilla/5.0 (Macintosh; Intel Mac OS X 10_15_7) AppleWebKit/537.36 (KHTML, like Gecko) Chrome/110.0.0.0 Safari/537.36\", \n",
    "        \"X-Amzn-Trace-Id\": \"Root=1-63f30b99-41b33d2044552ace036bb42e\"\n",
    "    }\n",
    "\n",
    "    page = requests.get(url=URL,headers=headers,timeout=(3.05, 27))\n",
    "    time.sleep(10)\n",
    "    soup1=BeautifulSoup(page.content,'html.parser')\n",
    "    soup2=BeautifulSoup(soup1.prettify(),'html.parser')\n",
    "    title=soup2.find('span', {'id':'productTitle'}).get_text()\n",
    "    price=soup2.find('span', {'class':'a-offscreen'}).get_text()\n",
    "    rating=soup2.find('i', {'class':'a-icon a-icon-star a-star-4-5'}).get_text()\n",
    "    price=price.strip()[1:]\n",
    "    title=title.strip()\n",
    "    rating=rating.strip()[0:3]\n",
    "\n",
    "    import datetime\n",
    "    today=datetime.date.today()\n",
    "\n",
    "    import csv\n",
    "    data=[title,price,rating,today]\n",
    "\n",
    "    with open('AmazonWebScraperDataset.csv','a+',newline='',encoding='UTF8') as f:\n",
    "        writer=csv.writer(f)\n",
    "        writer.writerow(data)\n",
    "\n",
    "    if(float(price)<16):\n",
    "        send_mail()"
   ]
  },
  {
   "cell_type": "code",
   "execution_count": 13,
   "id": "0628dfb5",
   "metadata": {},
   "outputs": [
   ],
   "source": [
    "#Keeping the timer, time.sleep(5-For every 5 seconds loop will run)\n",
    "while(True):\n",
    "    check_price()\n",
    "    time.sleep(5)"
   ]
  },
  {
   "cell_type": "code",
   "execution_count": 14,
   "id": "c9d08b53",
   "metadata": {},
   "outputs": [
    {
     "data": {
      "text/html": [
       "<div>\n",
       "<style scoped>\n",
       "    .dataframe tbody tr th:only-of-type {\n",
       "        vertical-align: middle;\n",
       "    }\n",
       "\n",
       "    .dataframe tbody tr th {\n",
       "        vertical-align: top;\n",
       "    }\n",
       "\n",
       "    .dataframe thead th {\n",
       "        text-align: right;\n",
       "    }\n",
       "</style>\n",
       "<table border=\"1\" class=\"dataframe\">\n",
       "  <thead>\n",
       "    <tr style=\"text-align: right;\">\n",
       "      <th></th>\n",
       "      <th>Title</th>\n",
       "      <th>Price</th>\n",
       "      <th>Rating</th>\n",
       "      <th>DateTime</th>\n",
       "    </tr>\n",
       "  </thead>\n",
       "  <tbody>\n",
       "    <tr>\n",
       "      <th>0</th>\n",
       "      <td>Can't Hear You I'm Gaming Headset Graphic Vide...</td>\n",
       "      <td>18.99</td>\n",
       "      <td>4.7</td>\n",
       "      <td>2023-02-20</td>\n",
       "    </tr>\n",
       "    <tr>\n",
       "      <th>1</th>\n",
       "      <td>Can't Hear You I'm Gaming Headset Graphic Vide...</td>\n",
       "      <td>18.99</td>\n",
       "      <td>4.7</td>\n",
       "      <td>2023-02-20</td>\n",
       "    </tr>\n",
       "  </tbody>\n",
       "</table>\n",
       "</div>"
      ],
      "text/plain": [
       "                                               Title  Price  Rating  \\\n",
       "0  Can't Hear You I'm Gaming Headset Graphic Vide...  18.99     4.7   \n",
       "1  Can't Hear You I'm Gaming Headset Graphic Vide...  18.99     4.7   \n",
       "\n",
       "     DateTime  \n",
       "0  2023-02-20  \n",
       "1  2023-02-20  "
      ]
     },
     "execution_count": 14,
     "metadata": {},
     "output_type": "execute_result"
    }
   ],
   "source": [
    "import pandas as pd\n",
    "df=pd.read_csv('/Users/yaswanthipolineni/Desktop/Alex/Python/AmazonWebScraperDataset.csv')\n",
    "df.head()"
   ]
  },
  {
   "cell_type": "code",
   "execution_count": null,
   "id": "aee3a136",
   "metadata": {},
   "outputs": [],
   "source": []
  }
 ],
 "metadata": {
  "kernelspec": {
   "display_name": "Python 3 (ipykernel)",
   "language": "python",
   "name": "python3"
  },
  "language_info": {
   "codemirror_mode": {
    "name": "ipython",
    "version": 3
   },
   "file_extension": ".py",
   "mimetype": "text/x-python",
   "name": "python",
   "nbconvert_exporter": "python",
   "pygments_lexer": "ipython3",
   "version": "3.9.13"
  }
 },
 "nbformat": 4,
 "nbformat_minor": 5
}
